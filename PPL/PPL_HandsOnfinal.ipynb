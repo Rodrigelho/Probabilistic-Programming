{
 "cells": [
  {
   "cell_type": "markdown",
   "id": "ea103aeb",
   "metadata": {},
   "source": [
    "Vamos fazer import do pomegranate e de mais algumas dependências importantes (numpy e matplotlib)"
   ]
  },
  {
   "cell_type": "code",
   "execution_count": 2,
   "id": "135c8b81",
   "metadata": {},
   "outputs": [],
   "source": [
    "from pomegranate import *\n",
    "import numpy as np\n",
    "import matplotlib.pyplot as plt"
   ]
  },
  {
   "cell_type": "markdown",
   "id": "3635bef9",
   "metadata": {},
   "source": [
    "# Inicialização de Distribuições"
   ]
  },
  {
   "cell_type": "markdown",
   "id": "519c29b4",
   "metadata": {},
   "source": [
    "Uma distribuição é inicializada passando os seus parâmetros.\n",
    "No caso da distribuição uniforma, a média e o desvio padrão"
   ]
  },
  {
   "cell_type": "code",
   "execution_count": 118,
   "id": "1391d093",
   "metadata": {
    "scrolled": true
   },
   "outputs": [
    {
     "data": {
      "text/plain": [
       "{\n",
       "    \"class\" : \"Distribution\",\n",
       "    \"name\" : \"NormalDistribution\",\n",
       "    \"parameters\" : [\n",
       "        5.0,\n",
       "        2.0\n",
       "    ],\n",
       "    \"frozen\" : false\n",
       "}"
      ]
     },
     "execution_count": 118,
     "metadata": {},
     "output_type": "execute_result"
    }
   ],
   "source": [
    "a = NormalDistribution(5,2)\n",
    "a"
   ]
  },
  {
   "cell_type": "markdown",
   "id": "2c781144",
   "metadata": {},
   "source": [
    "Podemos obter uma sample a partir de uma dada distribuição utilizando a função sample():"
   ]
  },
  {
   "cell_type": "code",
   "execution_count": 119,
   "id": "226240dd",
   "metadata": {},
   "outputs": [
    {
     "name": "stdout",
     "output_type": "stream",
     "text": [
      "6.309988259214761\n"
     ]
    }
   ],
   "source": [
    "valor = a.sample()\n",
    "print(valor)"
   ]
  },
  {
   "cell_type": "markdown",
   "id": "7b331397",
   "metadata": {},
   "source": [
    "Quando não sabemos os parâmetros da distribuição, podemos fazer o ajuste da distribuição a dados.\n",
    "Para isto usamos a classe from_samples"
   ]
  },
  {
   "cell_type": "code",
   "execution_count": 6,
   "id": "adaccaae",
   "metadata": {},
   "outputs": [
    {
     "data": {
      "text/plain": [
       "{\n",
       "    \"class\" : \"Distribution\",\n",
       "    \"name\" : \"NormalDistribution\",\n",
       "    \"parameters\" : [\n",
       "        5.0,\n",
       "        1.4142135623730951\n",
       "    ],\n",
       "    \"frozen\" : false\n",
       "}"
      ]
     },
     "execution_count": 6,
     "metadata": {},
     "output_type": "execute_result"
    }
   ],
   "source": [
    "b = NormalDistribution.from_samples([3,4,5,6,7])\n",
    "b"
   ]
  },
  {
   "cell_type": "markdown",
   "id": "c63f52d3",
   "metadata": {},
   "source": [
    "Podem ser criadas distribuições multivariadas a partir de distribuições univariadas através do método IndependentComponentsDistribution e passando-lhe um array das outras distribuições"
   ]
  },
  {
   "cell_type": "code",
   "execution_count": 5,
   "id": "7d8482a4",
   "metadata": {},
   "outputs": [
    {
     "data": {
      "text/plain": [
       "{\n",
       "    \"class\" : \"Distribution\",\n",
       "    \"name\" : \"IndependentComponentsDistribution\",\n",
       "    \"parameters\" : [\n",
       "        [\n",
       "            {\n",
       "                \"class\" : \"Distribution\",\n",
       "                \"name\" : \"NormalDistribution\",\n",
       "                \"parameters\" : [\n",
       "                    5.0,\n",
       "                    2.0\n",
       "                ],\n",
       "                \"frozen\" : false\n",
       "            },\n",
       "            {\n",
       "                \"class\" : \"Distribution\",\n",
       "                \"name\" : \"LogNormalDistribution\",\n",
       "                \"parameters\" : [\n",
       "                    1.0,\n",
       "                    0.3\n",
       "                ],\n",
       "                \"frozen\" : false\n",
       "            },\n",
       "            {\n",
       "                \"class\" : \"Distribution\",\n",
       "                \"name\" : \"ExponentialDistribution\",\n",
       "                \"parameters\" : [\n",
       "                    4.0\n",
       "                ],\n",
       "                \"frozen\" : false\n",
       "            }\n",
       "        ],\n",
       "        [\n",
       "            1.0,\n",
       "            1.0,\n",
       "            1.0\n",
       "        ]\n",
       "    ],\n",
       "    \"frozen\" : false\n",
       "}"
      ]
     },
     "execution_count": 5,
     "metadata": {},
     "output_type": "execute_result"
    }
   ],
   "source": [
    "d1 = NormalDistribution(5, 2)\n",
    "d2 = LogNormalDistribution(1, 0.3)\n",
    "d3 = ExponentialDistribution(4)\n",
    "d = IndependentComponentsDistribution([d1, d2, d3])\n",
    "d"
   ]
  },
  {
   "cell_type": "markdown",
   "id": "3666b4a8",
   "metadata": {},
   "source": [
    "Se a data for multivariada, é preciso passar uma matriz e não apenas um vetor."
   ]
  },
  {
   "cell_type": "code",
   "execution_count": 6,
   "id": "87fc1c21",
   "metadata": {},
   "outputs": [
    {
     "data": {
      "text/plain": [
       "(array([ 9.98588294, 10.01755069, 10.03791083]),\n",
       " array([[ 1.00990143e+00, -9.87537869e-02, -1.17221504e-02],\n",
       "        [-9.87537869e-02,  9.45219179e-01, -3.36942655e-04],\n",
       "        [-1.17221504e-02, -3.36942655e-04,  9.08922889e-01]]))"
      ]
     },
     "execution_count": 6,
     "metadata": {},
     "output_type": "execute_result"
    }
   ],
   "source": [
    "x = numpy.random.normal(10, 1, size=(1000, 3))\n",
    "\n",
    "d4 = MultivariateGaussianDistribution.from_samples(x)\n",
    "d4.mu, d4.cov"
   ]
  },
  {
   "cell_type": "markdown",
   "id": "5cbf0e79",
   "metadata": {},
   "source": [
    "Se quisermos ajustar uma distribuição de componentes independentes a partir dos dados, podemos passar uma lista de Distribuições ao método from_samples."
   ]
  },
  {
   "cell_type": "code",
   "execution_count": 19,
   "id": "98f31145",
   "metadata": {},
   "outputs": [
    {
     "data": {
      "text/plain": [
       "{\n",
       "    \"class\" : \"Distribution\",\n",
       "    \"name\" : \"IndependentComponentsDistribution\",\n",
       "    \"parameters\" : [\n",
       "        [\n",
       "            {\n",
       "                \"class\" : \"Distribution\",\n",
       "                \"name\" : \"NormalDistribution\",\n",
       "                \"parameters\" : [\n",
       "                    10.033116594349512,\n",
       "                    1.0000648310167783\n",
       "                ],\n",
       "                \"frozen\" : false\n",
       "            },\n",
       "            {\n",
       "                \"class\" : \"Distribution\",\n",
       "                \"name\" : \"ExponentialDistribution\",\n",
       "                \"parameters\" : [\n",
       "                    0.09949057098479301\n",
       "                ],\n",
       "                \"frozen\" : false\n",
       "            },\n",
       "            {\n",
       "                \"class\" : \"Distribution\",\n",
       "                \"name\" : \"LogNormalDistribution\",\n",
       "                \"parameters\" : [\n",
       "                    2.298544345751361,\n",
       "                    0.10197350209345586\n",
       "                ],\n",
       "                \"frozen\" : false\n",
       "            }\n",
       "        ],\n",
       "        [\n",
       "            1.0,\n",
       "            1.0,\n",
       "            1.0\n",
       "        ]\n",
       "    ],\n",
       "    \"frozen\" : false\n",
       "}"
      ]
     },
     "execution_count": 19,
     "metadata": {},
     "output_type": "execute_result"
    }
   ],
   "source": [
    "d5 = IndependentComponentsDistribution.from_samples(x, distributions=[NormalDistribution, ExponentialDistribution, LogNormalDistribution])\n",
    "d5"
   ]
  },
  {
   "cell_type": "markdown",
   "id": "1ec4c914",
   "metadata": {},
   "source": [
    "# Probabilidades"
   ]
  },
  {
   "cell_type": "markdown",
   "id": "45d9447f",
   "metadata": {},
   "source": [
    "Calcular probabilidades é também muito simples, basta usar o método probability"
   ]
  },
  {
   "cell_type": "code",
   "execution_count": 25,
   "id": "ff1f8fa4",
   "metadata": {},
   "outputs": [
    {
     "name": "stdout",
     "output_type": "stream",
     "text": [
      "-1.612085713764219\n",
      "0.19947114020079593\n"
     ]
    }
   ],
   "source": [
    "a = NormalDistribution(5,2)\n",
    "prob_log = a.log_probability(5)\n",
    "print(prob_log)\n",
    "prob = a.probability(5)\n",
    "print(prob)"
   ]
  },
  {
   "cell_type": "markdown",
   "id": "4c6b57a7",
   "metadata": {},
   "source": [
    "Também podemos passar um vetor de probabilidades:"
   ]
  },
  {
   "cell_type": "code",
   "execution_count": 26,
   "id": "aec8f064",
   "metadata": {},
   "outputs": [
    {
     "name": "stdout",
     "output_type": "stream",
     "text": [
      "[0.00876415 0.02699548 0.0647588  0.12098536 0.17603266 0.19947114]\n"
     ]
    }
   ],
   "source": [
    "probs = a.probability([0,1,2,3,4,5])\n",
    "print(probs)"
   ]
  },
  {
   "cell_type": "markdown",
   "id": "3d318289",
   "metadata": {},
   "source": [
    "Funciona da mesma forma para distribuições multivariadas:"
   ]
  },
  {
   "cell_type": "code",
   "execution_count": 30,
   "id": "d2ba775a",
   "metadata": {},
   "outputs": [
    {
     "data": {
      "text/plain": [
       "0.023475745551042353"
      ]
     },
     "execution_count": 30,
     "metadata": {},
     "output_type": "execute_result"
    }
   ],
   "source": [
    "x = numpy.random.normal(10, 1, size=(1000, 3))\n",
    "\n",
    "d7 = MultivariateGaussianDistribution.from_samples(x)\n",
    "\n",
    "d7.probability([[9,10,11]])"
   ]
  },
  {
   "cell_type": "markdown",
   "id": "f55e8676",
   "metadata": {},
   "source": [
    "Para as distribuições de Componentes Independentes a probabilidade é a multiplicação das probabilidades para as 3 dimensões:"
   ]
  },
  {
   "cell_type": "code",
   "execution_count": 32,
   "id": "6ee5b66a",
   "metadata": {},
   "outputs": [
    {
     "data": {
      "text/plain": [
       "0.0025226704869167945"
      ]
     },
     "execution_count": 32,
     "metadata": {},
     "output_type": "execute_result"
    }
   ],
   "source": [
    "d5.distributions[0].probability(9)*d5.distributions[1].probability(9)*d5.distributions[2].probability(9)"
   ]
  },
  {
   "cell_type": "markdown",
   "id": "591cb05a",
   "metadata": {},
   "source": [
    "# Representar graficamente uma distribuição"
   ]
  },
  {
   "cell_type": "markdown",
   "id": "dd366038",
   "metadata": {},
   "source": [
    "Podemos usar o método plot, que escolhe samples aleatoriamente a partir do modelo e faz o histograma dessas samples:"
   ]
  },
  {
   "cell_type": "code",
   "execution_count": 45,
   "id": "164d53be",
   "metadata": {},
   "outputs": [
    {
     "data": {
      "image/png": "[encoded data removed]",
      "text/plain": [
       "<Figure size 1440x720 with 2 Axes>"
      ]
     },
     "metadata": {
      "needs_background": "light"
     },
     "output_type": "display_data"
    }
   ],
   "source": [
    "a = NormalDistribution(5,2)\n",
    "b = ExponentialDistribution(2)\n",
    "\n",
    "plt.figure(figsize = (20,10))\n",
    "plt.subplot(231)\n",
    "plt.title(\"Distribuição Normal\")\n",
    "a.plot(1000,color = \"g\",density=True,bins=20)\n",
    "\n",
    "plt.subplot(232)\n",
    "plt.title(\"Distribuição Exponencial\")\n",
    "b.plot(1000,color = \"c\",density=True,bins=20)\n",
    "plt.show()"
   ]
  },
  {
   "cell_type": "markdown",
   "id": "d940b6f9",
   "metadata": {},
   "source": [
    "Outra forma de o fazer é calcular a probabilidade para cada ponto ao longo de um array e fazer o gráfico dessas probabilidades."
   ]
  },
  {
   "cell_type": "code",
   "execution_count": 48,
   "id": "857e62e8",
   "metadata": {},
   "outputs": [
    {
     "data": {
      "image/png": "[encoded data removed]",
      "text/plain": [
       "<Figure size 1440x720 with 2 Axes>"
      ]
     },
     "metadata": {
      "needs_background": "light"
     },
     "output_type": "display_data"
    }
   ],
   "source": [
    "xa = np.linspace(-2,12,1000)\n",
    "xb = np.linspace(0,4,1000)\n",
    "\n",
    "plt.figure(figsize = (20,10))\n",
    "plt.subplot(231)\n",
    "plt.title(\"Distribuição Normal\")\n",
    "plt.plot(xa,a.probability(xa),color = \"g\")\n",
    "\n",
    "plt.subplot(232)\n",
    "plt.title(\"Distribuição Exponencial\")\n",
    "plt.plot(xb,b.probability(xb),color = \"c\")\n",
    "plt.show()"
   ]
  },
  {
   "cell_type": "markdown",
   "id": "608d2b6e",
   "metadata": {},
   "source": [
    "# Fitting"
   ]
  },
  {
   "cell_type": "markdown",
   "id": "57a29315",
   "metadata": {},
   "source": [
    "Podemos querer ajustar a distribuição a novos dados.\n",
    "As distribuições são atualizadas usando a máxima verosimilhança e o kernel descarta os valores atuais da distribuição a não ser que se defina uma inércia, que define a proporção a usar da distribuição original, que por default tem o valor 0."
   ]
  },
  {
   "cell_type": "code",
   "execution_count": 55,
   "id": "29f59f53",
   "metadata": {},
   "outputs": [
    {
     "data": {
      "text/plain": [
       "{\n",
       "    \"class\" : \"Distribution\",\n",
       "    \"name\" : \"NormalDistribution\",\n",
       "    \"parameters\" : [\n",
       "        5.982320081106476,\n",
       "        2.016860695906934\n",
       "    ],\n",
       "    \"frozen\" : false\n",
       "}"
      ]
     },
     "execution_count": 55,
     "metadata": {},
     "output_type": "execute_result"
    }
   ],
   "source": [
    "X = numpy.random.normal(6,2,size=1000)\n",
    "\n",
    "e = NormalDistribution(100,2)\n",
    "e.fit(X)\n",
    "e"
   ]
  },
  {
   "cell_type": "code",
   "execution_count": 56,
   "id": "23c15acc",
   "metadata": {},
   "outputs": [
    {
     "data": {
      "text/plain": [
       "{\n",
       "    \"class\" : \"Distribution\",\n",
       "    \"name\" : \"NormalDistribution\",\n",
       "    \"parameters\" : [\n",
       "        52.99116004055324,\n",
       "        2.008430347953467\n",
       "    ],\n",
       "    \"frozen\" : false\n",
       "}"
      ]
     },
     "execution_count": 56,
     "metadata": {},
     "output_type": "execute_result"
    }
   ],
   "source": [
    "e = NormalDistribution(100,2)\n",
    "e.fit(X,inertia=0.5)\n",
    "e"
   ]
  },
  {
   "cell_type": "markdown",
   "id": "6a17b385",
   "metadata": {},
   "source": [
    "Também podemos passar um array com os pesos juntamente com os dados:"
   ]
  },
  {
   "cell_type": "code",
   "execution_count": 9,
   "id": "95bb3628",
   "metadata": {},
   "outputs": [
    {
     "data": {
      "text/plain": [
       "{\n",
       "    \"class\" : \"Distribution\",\n",
       "    \"name\" : \"NormalDistribution\",\n",
       "    \"parameters\" : [\n",
       "        3.538188277087034,\n",
       "        1.954149818564894\n",
       "    ],\n",
       "    \"frozen\" : false\n",
       "}"
      ]
     },
     "execution_count": 9,
     "metadata": {},
     "output_type": "execute_result"
    }
   ],
   "source": [
    "%timeit\n",
    "e = NormalDistribution(5,2)\n",
    "e.fit([1, 5, 7, 3, 2, 4], weights=[0.5, 0.75, 1, 1.25, 1.8, 0.33])\n",
    "e"
   ]
  },
  {
   "cell_type": "markdown",
   "id": "04a2f070",
   "metadata": {},
   "source": [
    "# Distribuições Discretas"
   ]
  },
  {
   "cell_type": "markdown",
   "id": "020307c6",
   "metadata": {},
   "source": [
    "Para criar distribuições discretas, passamos um dicionário onde as keys podem ser qualquer objeto e os valores são a probabilidade de eles ocorrerem:"
   ]
  },
  {
   "cell_type": "code",
   "execution_count": 59,
   "id": "9e9f3f17",
   "metadata": {},
   "outputs": [
    {
     "name": "stdout",
     "output_type": "stream",
     "text": [
      "0.3\n",
      "0.7\n",
      "0.0\n"
     ]
    }
   ],
   "source": [
    "d = DiscreteDistribution({\"Cara\":0.3,\"Coroa\":0.7})\n",
    "print(d.probability(\"Cara\"))\n",
    "print(d.probability(\"Coroa\"))\n",
    "print(d.probability(\"bola\"))"
   ]
  },
  {
   "cell_type": "code",
   "execution_count": 65,
   "id": "560588b0",
   "metadata": {},
   "outputs": [
    {
     "name": "stdout",
     "output_type": "stream",
     "text": [
      "0.5\n",
      "0.5\n"
     ]
    }
   ],
   "source": [
    "X = list(\"AAABBB\")\n",
    "d.fit(X)\n",
    "print(d.probability(\"A\"))\n",
    "print(d.probability(\"B\"))"
   ]
  },
  {
   "cell_type": "markdown",
   "id": "0b209e8c",
   "metadata": {},
   "source": [
    "# Velocidade"
   ]
  },
  {
   "cell_type": "markdown",
   "id": "285d9a59",
   "metadata": {},
   "source": [
    "Em termos de velocidade, o pomegranate consegue manter-se na mesma magnitude que o numpy, que é uma biblioteca super otimizada. Por exemplo, ajustando uma distribuição normal a 1000 samples:"
   ]
  },
  {
   "cell_type": "code",
   "execution_count": 69,
   "id": "ef85f116",
   "metadata": {},
   "outputs": [
    {
     "name": "stdout",
     "output_type": "stream",
     "text": [
      "114 µs ± 5.26 µs per loop (mean ± std. dev. of 7 runs, 10000 loops each)\n",
      "52.8 µs ± 1.61 µs per loop (mean ± std. dev. of 7 runs, 10000 loops each)\n"
     ]
    }
   ],
   "source": [
    "X = numpy.random.normal(4, 1, size=1000)\n",
    "\n",
    "%timeit numpy.mean(X), numpy.std(X)\n",
    "%timeit NormalDistribution.from_samples(X)"
   ]
  },
  {
   "cell_type": "markdown",
   "id": "5a425f4c",
   "metadata": {},
   "source": [
    "Agora, aumentando o número de samples para 1 milhão:"
   ]
  },
  {
   "cell_type": "code",
   "execution_count": 64,
   "id": "f5ab9026",
   "metadata": {},
   "outputs": [
    {
     "name": "stdout",
     "output_type": "stream",
     "text": [
      "198 ms ± 26.5 ms per loop (mean ± std. dev. of 7 runs, 10 loops each)\n",
      "231 ms ± 11.6 ms per loop (mean ± std. dev. of 7 runs, 1 loop each)\n"
     ]
    }
   ],
   "source": [
    "X = numpy.random.normal(4, 1, size=10000000)\n",
    "\n",
    "%timeit numpy.mean(X), numpy.std(X)\n",
    "%timeit NormalDistribution.from_samples(X)"
   ]
  },
  {
   "cell_type": "markdown",
   "id": "4a45c555",
   "metadata": {},
   "source": [
    "Agora vamos ajustar uma distribuição gaussiana multivariada a 1 milhão de samples em 3 dimensões. Como o pomegranate é escrito em Cython, pode usar o BLAS, aumentando a velocidade."
   ]
  },
  {
   "cell_type": "code",
   "execution_count": 70,
   "id": "e75748e5",
   "metadata": {},
   "outputs": [
    {
     "name": "stdout",
     "output_type": "stream",
     "text": [
      "157 ms ± 21.1 ms per loop (mean ± std. dev. of 7 runs, 10 loops each)\n",
      "92.8 ms ± 5.35 ms per loop (mean ± std. dev. of 7 runs, 10 loops each)\n"
     ]
    }
   ],
   "source": [
    "X = numpy.random.normal(4, 1, size=(1000000, 3))\n",
    "\n",
    "%timeit numpy.mean(X, axis=0), numpy.cov(X, rowvar=False, ddof=0)\n",
    "%timeit MultivariateGaussianDistribution.from_samples(X)"
   ]
  },
  {
   "cell_type": "markdown",
   "id": "ae7fd850",
   "metadata": {},
   "source": [
    "# Modelos de mistura Gerais"
   ]
  },
  {
   "cell_type": "markdown",
   "id": "837476f3",
   "metadata": {},
   "source": [
    "Vamos imaginar que temos dados complexos que não parecem corresponder a nenhuma das distribuições simples."
   ]
  },
  {
   "cell_type": "code",
   "execution_count": 121,
   "id": "dbcd3815",
   "metadata": {},
   "outputs": [
    {
     "data": {
      "image/png": "[encoded data removed]",
      "text/plain": [
       "<Figure size 576x432 with 1 Axes>"
      ]
     },
     "metadata": {
      "needs_background": "light"
     },
     "output_type": "display_data"
    }
   ],
   "source": [
    "X = numpy.concatenate([numpy.random.normal((7, 2), 1, size=(100, 2)),\n",
    "                       numpy.random.normal((2, 3), 1, size=(150, 2)),\n",
    "                       numpy.random.normal((7, 7), 1, size=(100, 2))])\n",
    "\n",
    "plt.figure(figsize=(8, 6))\n",
    "plt.scatter(X[:,0], X[:,1])\n",
    "plt.show()"
   ]
  },
  {
   "cell_type": "markdown",
   "id": "644bfba4",
   "metadata": {},
   "source": [
    "Estes dados parecem corresponder a 3 conjuntos diferentes, logo podemos criar um modelo de misturas gerais e defini-lo como uma mistura de 3 distribuições gaussianas."
   ]
  },
  {
   "cell_type": "code",
   "execution_count": 122,
   "id": "3dce24a9",
   "metadata": {},
   "outputs": [],
   "source": [
    "model = GeneralMixtureModel.from_samples(MultivariateGaussianDistribution, 3, X)"
   ]
  },
  {
   "cell_type": "markdown",
   "id": "a1fc2961",
   "metadata": {},
   "source": [
    "Agora podemos ver as probabilidades de densidades caso tivéssemos usado apenas 1 distribuição gaussiana versos a mistura das 3 gaussianas.\n",
    "Nota: Mais escuro = maior densidade de probabilidade\n",
    "É fácil de verificar que o modelo de misturas é melhor que a distribuição simples"
   ]
  },
  {
   "cell_type": "code",
   "execution_count": 123,
   "id": "52cc07e9",
   "metadata": {
    "scrolled": true
   },
   "outputs": [
    {
     "data": {
      "image/png": "[encoded data removed]",
      "text/plain": [
       "<Figure size 1008x432 with 2 Axes>"
      ]
     },
     "metadata": {
      "needs_background": "light"
     },
     "output_type": "display_data"
    }
   ],
   "source": [
    "x = numpy.arange(-1, 10.1, .1)\n",
    "y = numpy.arange(-1, 10.1, .1)\n",
    "\n",
    "xx, yy = numpy.meshgrid(x, y)\n",
    "x_ = numpy.array(list(zip(xx.flatten(), yy.flatten())))\n",
    "\n",
    "p1 = MultivariateGaussianDistribution.from_samples(X).probability(x_).reshape(len(x), len(y))\n",
    "p2 = model.probability(x_).reshape(len(x), len(y))\n",
    "\n",
    "\n",
    "plt.figure(figsize=(14, 6))\n",
    "plt.subplot(121)\n",
    "plt.contourf(xx, yy, p1, cmap='Blues', alpha=0.8)\n",
    "plt.scatter(X[:,0], X[:,1])\n",
    "\n",
    "plt.subplot(122)\n",
    "plt.contourf(xx, yy, p2, cmap='Blues', alpha=0.8)\n",
    "plt.scatter(X[:,0], X[:,1])\n",
    "plt.show()"
   ]
  },
  {
   "cell_type": "markdown",
   "id": "c16424b0",
   "metadata": {},
   "source": [
    "# Exemplos e Comparação com WebPPL"
   ]
  },
  {
   "cell_type": "markdown",
   "id": "71f0693a",
   "metadata": {},
   "source": [
    "Exercício 1 da Ficha 3: Assuma que 1% da população tem COVID. Dos que têm COVID, 70% tem um teste rápido positivo mas 10% das pessoas que não têm COVID tem um teste rápido positivo. Imprima o histograma correspondente aos positivos;"
   ]
  },
  {
   "attachments": {
    "image.png": {
     "image/png": "[encoded data removed]"
    }
   },
   "cell_type": "markdown",
   "id": "5ece0e1d",
   "metadata": {},
   "source": [
    "![image.png](attachment:image.png)"
   ]
  },
  {
   "cell_type": "code",
   "execution_count": 73,
   "id": "1e7745ed",
   "metadata": {},
   "outputs": [
    {
     "name": "stdout",
     "output_type": "stream",
     "text": [
      "A probabilidade do teste ser positivo é de:  0.1025\n",
      "A probabilidade do teste ser negativo é de:  0.8975\n"
     ]
    },
    {
     "data": {
      "image/png": "[encoded data removed]",
      "text/plain": [
       "<Figure size 432x288 with 1 Axes>"
      ]
     },
     "metadata": {
      "needs_background": "light"
     },
     "output_type": "display_data"
    }
   ],
   "source": [
    "#Exercício1 Ficha3\n",
    "\n",
    "def modelo():\n",
    "    coviddist = DiscreteDistribution({\"Covid\":0.01,\"Saudavel\":0.99})\n",
    "    teste_covid = DiscreteDistribution({\"Positivo\":0.70,\"Negativo\":0.30})\n",
    "    teste_saudavel = DiscreteDistribution({\"Positivo\":0.10,\"Negativo\":0.90})\n",
    "    if coviddist.sample() == \"Covid\":\n",
    "        return teste_covid.sample()\n",
    "    else:\n",
    "        return teste_saudavel.sample()\n",
    "    \n",
    "lista = []\n",
    "numero_samples = 10000\n",
    "count_pos = 0\n",
    "for i in range(numero_samples):\n",
    "    result = modelo()\n",
    "    lista.append(result)\n",
    "    if result == \"Positivo\":\n",
    "        count_pos +=1\n",
    "\n",
    "count_neg = numero_samples-count_pos\n",
    "\n",
    "prob_pos = count_pos/numero_samples\n",
    "prob_neg = count_neg/numero_samples\n",
    "print(\"A probabilidade do teste ser positivo é de: \",prob_pos)\n",
    "print(\"A probabilidade do teste ser negativo é de: \",prob_neg)\n",
    "\n",
    "\n",
    "plt.hist(lista,density=True,bins=[0,1,2],align=\"left\")\n",
    "plt.show()"
   ]
  },
  {
   "cell_type": "markdown",
   "id": "bf569bd8",
   "metadata": {},
   "source": [
    "Também Podemos resolver o exercício utilizando as Independent Components Distributions:"
   ]
  },
  {
   "cell_type": "code",
   "execution_count": 64,
   "id": "bec386b3",
   "metadata": {},
   "outputs": [
    {
     "name": "stdout",
     "output_type": "stream",
     "text": [
      "A probabilidade do resultado do teste ser positivo é:  0.10600000000000001\n",
      "A probabilidade do resultado do teste ser negativo é:  0.894\n"
     ]
    }
   ],
   "source": [
    "covid_dist = DiscreteDistribution({\"Covid\":0.01,\"Saudavel\":0.99})\n",
    "teste_covid = DiscreteDistribution({\"Positivo\":0.70,\"Negativo\":0.30})\n",
    "teste_saudavel = DiscreteDistribution({\"Positivo\":0.10,\"Negativo\":0.90})\n",
    "\n",
    "dist = IndependentComponentsDistribution(distributions=[covid_dist,teste_covid,teste_saudavel])\n",
    "\n",
    "prob_positivo = dist.distributions[0].probability(\"Covid\")*dist.distributions[1].probability(\"Positivo\") + dist.distributions[0].probability(\"Saudavel\")*dist.distributions[2].probability(\"Positivo\")\n",
    "prob_negativo = dist.distributions[0].probability(\"Covid\")*dist.distributions[1].probability(\"Negativo\") + dist.distributions[0].probability(\"Saudavel\")*dist.distributions[2].probability(\"Negativo\")\n",
    "print(\"A probabilidade do resultado do teste ser positivo é: \",prob_positivo)\n",
    "print(\"A probabilidade do resultado do teste ser negativo é: \",prob_negativo)"
   ]
  },
  {
   "cell_type": "markdown",
   "id": "83ad8d16",
   "metadata": {},
   "source": [
    "Exercício 2 Ficha 3: Assuma agora que existe o teste B (em oposição ao teste A referido acima) em que 90% das pessoas com COVID tem um teste positivo enquanto que só 1% das pessoas sem COVID tem um teste positivo. Assuma também que das pessoas que ligam para o Saúde24, 80% das pessoas fizeram o teste A e as restantes fizeram o teste B. Imprima o histograma correspondente aos positivos."
   ]
  },
  {
   "attachments": {
    "image.png": {
     "image/png": "[encoded data removed]"
    }
   },
   "cell_type": "markdown",
   "id": "d5198141",
   "metadata": {},
   "source": [
    "![image.png](attachment:image.png)"
   ]
  },
  {
   "cell_type": "code",
   "execution_count": 72,
   "id": "d56ff03e",
   "metadata": {},
   "outputs": [
    {
     "name": "stdout",
     "output_type": "stream",
     "text": [
      "A probabilidade do teste ser positivo é de:  0.0791\n",
      "A probabilidade do teste ser negativo é de:  0.9209\n"
     ]
    },
    {
     "data": {
      "image/png": "[encoded data removed]",
      "text/plain": [
       "<Figure size 432x288 with 1 Axes>"
      ]
     },
     "metadata": {
      "needs_background": "light"
     },
     "output_type": "display_data"
    }
   ],
   "source": [
    "#Exercício 2 Ficha\n",
    "\n",
    "def modelo():\n",
    "    coviddist = DiscreteDistribution({\"Covid\":0.01,\"Saudavel\":0.99})\n",
    "    testeA_covid = DiscreteDistribution({\"Positivo\":0.70,\"Negativo\":0.30})\n",
    "    testeA_saudavel = DiscreteDistribution({\"Positivo\":0.10,\"Negativo\":0.90})\n",
    "    testeB_covid = DiscreteDistribution({\"Positivo\":0.9,\"Negativo\":0.10})\n",
    "    testeB_saudavel = DiscreteDistribution({\"Positivo\":0.01,\"Negativo\":0.99})\n",
    "    positivos = DiscreteDistribution({\"A\":0.80,\"B\":0.20})\n",
    "    \n",
    "    if positivos.sample() == \"A\":\n",
    "        if coviddist.sample == \"Covid\":\n",
    "            return testeA_covid.sample()\n",
    "        else:\n",
    "            return testeA_saudavel.sample()\n",
    "    else:\n",
    "        if coviddist.sample() == \"Covid\":\n",
    "            return testeB_covid.sample()\n",
    "        else:\n",
    "            return testeB_saudavel.sample()\n",
    "\n",
    "lista = []\n",
    "numero_samples = 10000\n",
    "count_pos = 0\n",
    "for i in range(numero_samples):\n",
    "    result = modelo()\n",
    "    lista.append(result)\n",
    "    if result == \"Positivo\":\n",
    "        count_pos +=1\n",
    "\n",
    "count_neg = numero_samples-count_pos\n",
    "\n",
    "prob_pos = count_pos/numero_samples\n",
    "prob_neg = count_neg/numero_samples\n",
    "print(\"A probabilidade do teste ser positivo é de: \",prob_pos)\n",
    "print(\"A probabilidade do teste ser negativo é de: \",prob_neg)\n",
    "\n",
    "\n",
    "plt.hist(lista,density=True,bins=[0,1,2],align=\"left\")\n",
    "plt.show()"
   ]
  },
  {
   "cell_type": "markdown",
   "id": "b0c662d9",
   "metadata": {},
   "source": [
    "Exercício 3 Ficha 3: Calcule p(COVID|positivo) para a pergunta 1 da ficha 3;"
   ]
  },
  {
   "attachments": {
    "image.png": {
     "image/png": "[encoded data removed]"
    }
   },
   "cell_type": "markdown",
   "id": "cfd01342",
   "metadata": {},
   "source": [
    "![image.png](attachment:image.png)"
   ]
  },
  {
   "cell_type": "code",
   "execution_count": 116,
   "id": "72939797",
   "metadata": {},
   "outputs": [
    {
     "name": "stdout",
     "output_type": "stream",
     "text": [
      "A probabilidade de ter covid é de:  0.06384976525821597\n",
      "A probabilidade de ser saudável é de:  0.936150234741784\n"
     ]
    },
    {
     "data": {
      "image/png": "[encoded data removed]",
      "text/plain": [
       "<Figure size 432x288 with 1 Axes>"
      ]
     },
     "metadata": {
      "needs_background": "light"
     },
     "output_type": "display_data"
    }
   ],
   "source": [
    "# Exercício 3\n",
    "\n",
    "def modelo():\n",
    "    coviddist = DiscreteDistribution({\"Covid\":0.01,\"Saudavel\":0.99})\n",
    "    teste_covid = DiscreteDistribution({\"Positivo\":0.70,\"Negativo\":0.30})\n",
    "    teste_saudavel = DiscreteDistribution({\"Positivo\":0.10,\"Negativo\":0.90})\n",
    "    covid = coviddist.sample()\n",
    "    if covid == \"Covid\":\n",
    "        resultado = teste_covid.sample()\n",
    "    else:\n",
    "        resultado = teste_saudavel.sample()\n",
    "    if resultado == \"Positivo\":\n",
    "        return covid\n",
    "    \n",
    "lista = []\n",
    "count_covid = 0\n",
    "numero_samples = 50000\n",
    "for i in range(numero_samples):\n",
    "    result = modelo()\n",
    "    if result != None:\n",
    "        lista.append(result)\n",
    "        if result == \"Covid\":\n",
    "            count_covid +=1\n",
    "\n",
    "count_sau = len(lista)-count_covid\n",
    "\n",
    "prob_covid = count_covid/len(lista)\n",
    "prob_sau = count_sau/len(lista)\n",
    "print(\"A probabilidade de ter covid é de: \",prob_covid)\n",
    "print(\"A probabilidade de ser saudável é de: \",prob_sau)\n",
    "\n",
    "plt.hist(lista,density=True,bins=[0,1,2],align=\"left\")\n",
    "plt.show()"
   ]
  }
 ],
 "metadata": {
  "interpreter": {
   "hash": "b1cbc199116ca0050f15b4a096ee5586221393ef42f89efdf0ba89fccf25361f"
  },
  "kernelspec": {
   "display_name": "Python 3",
   "language": "python",
   "name": "python3"
  },
  "language_info": {
   "codemirror_mode": {
    "name": "ipython",
    "version": 3
   },
   "file_extension": ".py",
   "mimetype": "text/x-python",
   "name": "python",
   "nbconvert_exporter": "python",
   "pygments_lexer": "ipython3",
   "version": "3.8.8"
  }
 },
 "nbformat": 4,
 "nbformat_minor": 5
}
