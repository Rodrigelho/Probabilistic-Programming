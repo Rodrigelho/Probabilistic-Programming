{
 "cells": [
  {
   "cell_type": "markdown",
   "id": "aee25521",
   "metadata": {},
   "source": [
    "# Instalação e Utilização"
   ]
  },
  {
   "cell_type": "code",
   "execution_count": null,
   "id": "db81c5fe",
   "metadata": {},
   "outputs": [],
   "source": [
    "!pip install pomegranate"
   ]
  },
  {
   "cell_type": "markdown",
   "id": "ea103aeb",
   "metadata": {},
   "source": [
    "Vamos fazer import do pomegranate e de mais algumas dependências importantes (numpy e matplotlib)"
   ]
  },
  {
   "cell_type": "code",
   "execution_count": 1,
   "id": "135c8b81",
   "metadata": {},
   "outputs": [],
   "source": [
    "from pomegranate import *\n",
    "import numpy as np\n",
    "import matplotlib.pyplot as plt"
   ]
  },
  {
   "cell_type": "markdown",
   "id": "3635bef9",
   "metadata": {},
   "source": [
    "# Inicialização de Distribuições"
   ]
  },
  {
   "cell_type": "markdown",
   "id": "519c29b4",
   "metadata": {},
   "source": [
    "Uma distribuição é inicializada passando os seus parâmetros.\n",
    "No caso da distribuição uniforme, a média e o desvio padrão"
   ]
  },
  {
   "cell_type": "code",
   "execution_count": 118,
   "id": "1391d093",
   "metadata": {
    "scrolled": true
   },
   "outputs": [
    {
     "data": {
      "text/plain": [
       "{\n",
       "    \"class\" : \"Distribution\",\n",
       "    \"name\" : \"NormalDistribution\",\n",
       "    \"parameters\" : [\n",
       "        5.0,\n",
       "        2.0\n",
       "    ],\n",
       "    \"frozen\" : false\n",
       "}"
      ]
     },
     "execution_count": 118,
     "metadata": {},
     "output_type": "execute_result"
    }
   ],
   "source": [
    "a = NormalDistribution(5,2)\n",
    "a"
   ]
  },
  {
   "cell_type": "markdown",
   "id": "e0672846",
   "metadata": {},
   "source": [
    "Podemos obter uma sample a partir de uma dada distribuição utilizando a função sample():"
   ]
  },
  {
   "cell_type": "code",
   "execution_count": 119,
   "id": "2b21c2cc",
   "metadata": {},
   "outputs": [
    {
     "name": "stdout",
     "output_type": "stream",
     "text": [
      "6.309988259214761\n"
     ]
    }
   ],
   "source": [
    "valor = a.sample()\n",
    "print(valor)"
   ]
  },
  {
   "cell_type": "markdown",
   "id": "7b331397",
   "metadata": {},
   "source": [
    "Quando não sabemos os parâmetros da distribuição, podemos fazer o ajuste da distribuição a dados.\n",
    "Para isto usamos a classe from_samples"
   ]
  },
  {
   "cell_type": "code",
   "execution_count": 6,
   "id": "adaccaae",
   "metadata": {},
   "outputs": [
    {
     "data": {
      "text/plain": [
       "{\n",
       "    \"class\" : \"Distribution\",\n",
       "    \"name\" : \"NormalDistribution\",\n",
       "    \"parameters\" : [\n",
       "        5.0,\n",
       "        1.4142135623730951\n",
       "    ],\n",
       "    \"frozen\" : false\n",
       "}"
      ]
     },
     "execution_count": 6,
     "metadata": {},
     "output_type": "execute_result"
    }
   ],
   "source": [
    "b = NormalDistribution.from_samples([3,4,5,6,7])\n",
    "b"
   ]
  },
  {
   "cell_type": "markdown",
   "id": "c63f52d3",
   "metadata": {},
   "source": [
    "Podem ser criadas distribuições multivariadas a partir de distribuições univariadas através do método IndependentComponentsDistribution e passando-lhe um array das outras distribuições"
   ]
  },
  {
   "cell_type": "code",
   "execution_count": 5,
   "id": "7d8482a4",
   "metadata": {},
   "outputs": [
    {
     "data": {
      "text/plain": [
       "{\n",
       "    \"class\" : \"Distribution\",\n",
       "    \"name\" : \"IndependentComponentsDistribution\",\n",
       "    \"parameters\" : [\n",
       "        [\n",
       "            {\n",
       "                \"class\" : \"Distribution\",\n",
       "                \"name\" : \"NormalDistribution\",\n",
       "                \"parameters\" : [\n",
       "                    5.0,\n",
       "                    2.0\n",
       "                ],\n",
       "                \"frozen\" : false\n",
       "            },\n",
       "            {\n",
       "                \"class\" : \"Distribution\",\n",
       "                \"name\" : \"LogNormalDistribution\",\n",
       "                \"parameters\" : [\n",
       "                    1.0,\n",
       "                    0.3\n",
       "                ],\n",
       "                \"frozen\" : false\n",
       "            },\n",
       "            {\n",
       "                \"class\" : \"Distribution\",\n",
       "                \"name\" : \"ExponentialDistribution\",\n",
       "                \"parameters\" : [\n",
       "                    4.0\n",
       "                ],\n",
       "                \"frozen\" : false\n",
       "            }\n",
       "        ],\n",
       "        [\n",
       "            1.0,\n",
       "            1.0,\n",
       "            1.0\n",
       "        ]\n",
       "    ],\n",
       "    \"frozen\" : false\n",
       "}"
      ]
     },
     "execution_count": 5,
     "metadata": {},
     "output_type": "execute_result"
    }
   ],
   "source": [
    "d1 = NormalDistribution(5, 2)\n",
    "d2 = LogNormalDistribution(1, 0.3)\n",
    "d3 = ExponentialDistribution(4)\n",
    "d = IndependentComponentsDistribution([d1, d2, d3])\n",
    "d"
   ]
  },
  {
   "cell_type": "markdown",
   "id": "3666b4a8",
   "metadata": {},
   "source": [
    "Se a data for multivariada, é preciso passar uma matriz e não apenas um vetor na função from_samples()"
   ]
  },
  {
   "cell_type": "code",
   "execution_count": 4,
   "id": "87fc1c21",
   "metadata": {},
   "outputs": [
    {
     "data": {
      "text/plain": [
       "(array([10.01131172, 10.06548368,  9.99554942]),\n",
       " array([[ 1.00640314, -0.02686581, -0.01620425],\n",
       "        [-0.02686581,  0.92715465,  0.0416462 ],\n",
       "        [-0.01620425,  0.0416462 ,  0.9861119 ]]))"
      ]
     },
     "execution_count": 4,
     "metadata": {},
     "output_type": "execute_result"
    }
   ],
   "source": [
    "x = numpy.random.normal(10, 1, size=(1000, 3))\n",
    "\n",
    "d4 = MultivariateGaussianDistribution.from_samples(x)\n",
    "d4.mu, d4.cov"
   ]
  },
  {
   "cell_type": "markdown",
   "id": "5cbf0e79",
   "metadata": {},
   "source": [
    "Se quisermos ajustar uma distribuição de componentes independentes a partir dos dados, podemos passar uma lista de Distribuições ao método from_samples."
   ]
  },
  {
   "cell_type": "code",
   "execution_count": 6,
   "id": "98f31145",
   "metadata": {},
   "outputs": [
    {
     "data": {
      "text/plain": [
       "{\n",
       "    \"class\" : \"Distribution\",\n",
       "    \"name\" : \"IndependentComponentsDistribution\",\n",
       "    \"parameters\" : [\n",
       "        [\n",
       "            {\n",
       "                \"class\" : \"Distribution\",\n",
       "                \"name\" : \"NormalDistribution\",\n",
       "                \"parameters\" : [\n",
       "                    10.011311718074161,\n",
       "                    1.0031964597983587\n",
       "                ],\n",
       "                \"frozen\" : false\n",
       "            },\n",
       "            {\n",
       "                \"class\" : \"Distribution\",\n",
       "                \"name\" : \"ExponentialDistribution\",\n",
       "                \"parameters\" : [\n",
       "                    0.09934942342228693\n",
       "                ],\n",
       "                \"frozen\" : false\n",
       "            },\n",
       "            {\n",
       "                \"class\" : \"Distribution\",\n",
       "                \"name\" : \"LogNormalDistribution\",\n",
       "                \"parameters\" : [\n",
       "                    2.2971279814276437,\n",
       "                    0.10063346950812867\n",
       "                ],\n",
       "                \"frozen\" : false\n",
       "            }\n",
       "        ],\n",
       "        [\n",
       "            1.0,\n",
       "            1.0,\n",
       "            1.0\n",
       "        ]\n",
       "    ],\n",
       "    \"frozen\" : false\n",
       "}"
      ]
     },
     "execution_count": 6,
     "metadata": {},
     "output_type": "execute_result"
    }
   ],
   "source": [
    "d5 = IndependentComponentsDistribution.from_samples(x, distributions=[NormalDistribution, ExponentialDistribution, LogNormalDistribution])\n",
    "d5"
   ]
  },
  {
   "cell_type": "markdown",
   "id": "1ec4c914",
   "metadata": {},
   "source": [
    "# Probabilidades"
   ]
  },
  {
   "cell_type": "markdown",
   "id": "45d9447f",
   "metadata": {},
   "source": [
    "Calcular probabilidades é também muito simples, basta usar o método probability"
   ]
  },
  {
   "cell_type": "code",
   "execution_count": 25,
   "id": "ff1f8fa4",
   "metadata": {},
   "outputs": [
    {
     "name": "stdout",
     "output_type": "stream",
     "text": [
      "-1.612085713764219\n",
      "0.19947114020079593\n"
     ]
    }
   ],
   "source": [
    "a = NormalDistribution(5,2)\n",
    "prob_log = a.log_probability(5)\n",
    "print(prob_log)\n",
    "prob = a.probability(5)\n",
    "print(prob)"
   ]
  },
  {
   "cell_type": "markdown",
   "id": "4c6b57a7",
   "metadata": {},
   "source": [
    "Também podemos passar um vetor de probabilidades:"
   ]
  },
  {
   "cell_type": "code",
   "execution_count": 26,
   "id": "aec8f064",
   "metadata": {},
   "outputs": [
    {
     "name": "stdout",
     "output_type": "stream",
     "text": [
      "[0.00876415 0.02699548 0.0647588  0.12098536 0.17603266 0.19947114]\n"
     ]
    }
   ],
   "source": [
    "probs = a.probability([0,1,2,3,4,5])\n",
    "print(probs)"
   ]
  },
  {
   "cell_type": "markdown",
   "id": "3d318289",
   "metadata": {},
   "source": [
    "Funciona da mesma forma para distribuições multivariadas:"
   ]
  },
  {
   "cell_type": "code",
   "execution_count": 30,
   "id": "d2ba775a",
   "metadata": {},
   "outputs": [
    {
     "data": {
      "text/plain": [
       "0.023475745551042353"
      ]
     },
     "execution_count": 30,
     "metadata": {},
     "output_type": "execute_result"
    }
   ],
   "source": [
    "x = numpy.random.normal(10, 1, size=(1000, 3))\n",
    "\n",
    "d7 = MultivariateGaussianDistribution.from_samples(x)\n",
    "\n",
    "d7.probability([[9,10,11]])"
   ]
  },
  {
   "cell_type": "markdown",
   "id": "f55e8676",
   "metadata": {},
   "source": [
    "Para as distribuições de Componentes Independentes a probabilidade é a multiplicação das probabilidades para as 3 dimensões:"
   ]
  },
  {
   "cell_type": "code",
   "execution_count": 7,
   "id": "6ee5b66a",
   "metadata": {},
   "outputs": [
    {
     "name": "stdout",
     "output_type": "stream",
     "text": [
      "0.0026158314189695868\n",
      "0.0026158314189695868\n"
     ]
    }
   ],
   "source": [
    "print(d5.distributions[0].probability(9)*d5.distributions[1].probability(9)*d5.distributions[2].probability(9))\n",
    "print(d5.probability([[9,9,9]]))"
   ]
  },
  {
   "cell_type": "markdown",
   "id": "591cb05a",
   "metadata": {},
   "source": [
    "# Representar graficamente uma distribuição"
   ]
  },
  {
   "cell_type": "markdown",
   "id": "dd366038",
   "metadata": {},
   "source": [
    "Podemos usar o método plot, que escolhe samples aleatoriamente a partir do modelo e faz o histograma dessas samples:"
   ]
  },
  {
   "cell_type": "code",
   "execution_count": 45,
   "id": "164d53be",
   "metadata": {},
   "outputs": [
    {
     "data": {
      "image/png": "[encoded data removed]",
      "text/plain": [
       "<Figure size 1440x720 with 2 Axes>"
      ]
     },
     "metadata": {
      "needs_background": "light"
     },
     "output_type": "display_data"
    }
   ],
   "source": [
    "a = NormalDistribution(5,2)\n",
    "b = ExponentialDistribution(2)\n",
    "\n",
    "plt.figure(figsize = (20,10))\n",
    "plt.subplot(231)\n",
    "plt.title(\"Distribuição Normal\")\n",
    "a.plot(1000,color = \"g\",density=True,bins=20)\n",
    "\n",
    "plt.subplot(232)\n",
    "plt.title(\"Distribuição Exponencial\")\n",
    "b.plot(1000,color = \"c\",density=True,bins=20)\n",
    "plt.show()"
   ]
  },
  {
   "cell_type": "markdown",
   "id": "d940b6f9",
   "metadata": {},
   "source": [
    "Outra forma de o fazer é calcular a probabilidade para cada ponto ao longo de um array e fazer o gráfico dessas probabilidades."
   ]
  },
  {
   "cell_type": "code",
   "execution_count": 48,
   "id": "857e62e8",
   "metadata": {},
   "outputs": [
    {
     "data": {
      "image/png": "[encoded data removed]",
      "text/plain": [
       "<Figure size 1440x720 with 2 Axes>"
      ]
     },
     "metadata": {
      "needs_background": "light"
     },
     "output_type": "display_data"
    }
   ],
   "source": [
    "xa = np.linspace(-2,12,1000)\n",
    "xb = np.linspace(0,4,1000)\n",
    "\n",
    "plt.figure(figsize = (20,10))\n",
    "plt.subplot(231)\n",
    "plt.title(\"Distribuição Normal\")\n",
    "plt.plot(xa,a.probability(xa),color = \"g\")\n",
    "\n",
    "plt.subplot(232)\n",
    "plt.title(\"Distribuição Exponencial\")\n",
    "plt.plot(xb,b.probability(xb),color = \"c\")\n",
    "plt.show()"
   ]
  },
  {
   "cell_type": "markdown",
   "id": "608d2b6e",
   "metadata": {},
   "source": [
    "# Fitting"
   ]
  },
  {
   "cell_type": "markdown",
   "id": "57a29315",
   "metadata": {},
   "source": [
    "Podemos querer ajustar a distribuição a novos dados.\n",
    "As distribuições são atualizadas usando a máxima verosimilhança e o kernel descarta os valores atuais da distribuição a não ser que se defina uma inércia, que define a proporção a usar da distribuição original, que por default tem o valor 0."
   ]
  },
  {
   "cell_type": "code",
   "execution_count": 55,
   "id": "29f59f53",
   "metadata": {},
   "outputs": [
    {
     "data": {
      "text/plain": [
       "{\n",
       "    \"class\" : \"Distribution\",\n",
       "    \"name\" : \"NormalDistribution\",\n",
       "    \"parameters\" : [\n",
       "        5.982320081106476,\n",
       "        2.016860695906934\n",
       "    ],\n",
       "    \"frozen\" : false\n",
       "}"
      ]
     },
     "execution_count": 55,
     "metadata": {},
     "output_type": "execute_result"
    }
   ],
   "source": [
    "X = numpy.random.normal(6,2,size=1000)\n",
    "\n",
    "e = NormalDistribution(100,2)\n",
    "e.fit(X)\n",
    "e"
   ]
  },
  {
   "cell_type": "code",
   "execution_count": 56,
   "id": "23c15acc",
   "metadata": {},
   "outputs": [
    {
     "data": {
      "text/plain": [
       "{\n",
       "    \"class\" : \"Distribution\",\n",
       "    \"name\" : \"NormalDistribution\",\n",
       "    \"parameters\" : [\n",
       "        52.99116004055324,\n",
       "        2.008430347953467\n",
       "    ],\n",
       "    \"frozen\" : false\n",
       "}"
      ]
     },
     "execution_count": 56,
     "metadata": {},
     "output_type": "execute_result"
    }
   ],
   "source": [
    "e = NormalDistribution(100,2)\n",
    "e.fit(X,inertia=0.5)\n",
    "e"
   ]
  },
  {
   "cell_type": "markdown",
   "id": "6a17b385",
   "metadata": {},
   "source": [
    "Também podemos passar um array com os pesos juntamente com os dados:"
   ]
  },
  {
   "cell_type": "code",
   "execution_count": 9,
   "id": "95bb3628",
   "metadata": {},
   "outputs": [
    {
     "data": {
      "text/plain": [
       "{\n",
       "    \"class\" : \"Distribution\",\n",
       "    \"name\" : \"NormalDistribution\",\n",
       "    \"parameters\" : [\n",
       "        3.538188277087034,\n",
       "        1.954149818564894\n",
       "    ],\n",
       "    \"frozen\" : false\n",
       "}"
      ]
     },
     "execution_count": 9,
     "metadata": {},
     "output_type": "execute_result"
    }
   ],
   "source": [
    "%timeit\n",
    "e = NormalDistribution(5,2)\n",
    "e.fit([1, 5, 7, 3, 2, 4], weights=[0.5, 0.75, 1, 1.25, 1.8, 0.33])\n",
    "e"
   ]
  },
  {
   "cell_type": "markdown",
   "id": "04a2f070",
   "metadata": {},
   "source": [
    "# Distribuições Discretas"
   ]
  },
  {
   "cell_type": "markdown",
   "id": "020307c6",
   "metadata": {},
   "source": [
    "Para criar distribuições discretas, passamos um dicionário onde as keys podem ser qualquer objeto e os valores são a probabilidade de eles ocorrerem:"
   ]
  },
  {
   "cell_type": "code",
   "execution_count": 59,
   "id": "9e9f3f17",
   "metadata": {},
   "outputs": [
    {
     "name": "stdout",
     "output_type": "stream",
     "text": [
      "0.3\n",
      "0.7\n",
      "0.0\n"
     ]
    }
   ],
   "source": [
    "d = DiscreteDistribution({\"Cara\":0.3,\"Coroa\":0.7})\n",
    "print(d.probability(\"Cara\"))\n",
    "print(d.probability(\"Coroa\"))\n",
    "print(d.probability(\"bola\"))"
   ]
  },
  {
   "cell_type": "code",
   "execution_count": 65,
   "id": "560588b0",
   "metadata": {},
   "outputs": [
    {
     "name": "stdout",
     "output_type": "stream",
     "text": [
      "0.5\n",
      "0.5\n"
     ]
    }
   ],
   "source": [
    "X = list(\"AAABBB\")\n",
    "d.fit(X)\n",
    "print(d.probability(\"A\"))\n",
    "print(d.probability(\"B\"))"
   ]
  },
  {
   "cell_type": "markdown",
   "id": "0b209e8c",
   "metadata": {},
   "source": [
    "# Velocidade"
   ]
  },
  {
   "cell_type": "markdown",
   "id": "285d9a59",
   "metadata": {},
   "source": [
    "Em termos de velocidade, o pomegranate consegue manter-se na mesma magnitude que o numpy, que é uma biblioteca super otimizada. Por exemplo, ajustando uma distribuição normal a 1000 samples:"
   ]
  },
  {
   "cell_type": "code",
   "execution_count": 69,
   "id": "ef85f116",
   "metadata": {},
   "outputs": [
    {
     "name": "stdout",
     "output_type": "stream",
     "text": [
      "114 µs ± 5.26 µs per loop (mean ± std. dev. of 7 runs, 10000 loops each)\n",
      "52.8 µs ± 1.61 µs per loop (mean ± std. dev. of 7 runs, 10000 loops each)\n"
     ]
    }
   ],
   "source": [
    "X = numpy.random.normal(4, 1, size=1000)\n",
    "\n",
    "%timeit numpy.mean(X), numpy.std(X)\n",
    "%timeit NormalDistribution.from_samples(X)"
   ]
  },
  {
   "cell_type": "markdown",
   "id": "5a425f4c",
   "metadata": {},
   "source": [
    "Agora, aumentando o número de samples para 1 milhão:"
   ]
  },
  {
   "cell_type": "code",
   "execution_count": 64,
   "id": "f5ab9026",
   "metadata": {},
   "outputs": [
    {
     "name": "stdout",
     "output_type": "stream",
     "text": [
      "198 ms ± 26.5 ms per loop (mean ± std. dev. of 7 runs, 10 loops each)\n",
      "231 ms ± 11.6 ms per loop (mean ± std. dev. of 7 runs, 1 loop each)\n"
     ]
    }
   ],
   "source": [
    "X = numpy.random.normal(4, 1, size=10000000)\n",
    "\n",
    "%timeit numpy.mean(X), numpy.std(X)\n",
    "%timeit NormalDistribution.from_samples(X)"
   ]
  },
  {
   "cell_type": "markdown",
   "id": "4a45c555",
   "metadata": {},
   "source": [
    "Agora vamos ajustar uma distribuição gaussiana multivariada a 1 milhão de samples em 3 dimensões. Como o pomegranate é escrito em Cython, pode usar o BLAS, aumentando a velocidade."
   ]
  },
  {
   "cell_type": "code",
   "execution_count": 70,
   "id": "e75748e5",
   "metadata": {},
   "outputs": [
    {
     "name": "stdout",
     "output_type": "stream",
     "text": [
      "157 ms ± 21.1 ms per loop (mean ± std. dev. of 7 runs, 10 loops each)\n",
      "92.8 ms ± 5.35 ms per loop (mean ± std. dev. of 7 runs, 10 loops each)\n"
     ]
    }
   ],
   "source": [
    "X = numpy.random.normal(4, 1, size=(1000000, 3))\n",
    "\n",
    "%timeit numpy.mean(X, axis=0), numpy.cov(X, rowvar=False, ddof=0)\n",
    "%timeit MultivariateGaussianDistribution.from_samples(X)"
   ]
  },
  {
   "cell_type": "markdown",
   "id": "ae7fd850",
   "metadata": {},
   "source": [
    "# Modelos de mistura Gerais"
   ]
  },
  {
   "cell_type": "markdown",
   "id": "837476f3",
   "metadata": {},
   "source": [
    "Vamos imaginar que temos dados complexos que não parecem corresponder a nenhuma das distribuições simples."
   ]
  },
  {
   "cell_type": "code",
   "execution_count": 10,
   "id": "dbcd3815",
   "metadata": {},
   "outputs": [
    {
     "data": {
      "image/png": "[encoded data removed]",
      "text/plain": [
       "<Figure size 576x432 with 1 Axes>"
      ]
     },
     "metadata": {
      "needs_background": "light"
     },
     "output_type": "display_data"
    }
   ],
   "source": [
    "X = numpy.concatenate([numpy.random.normal((7, 2), 1, size=(100, 2)),\n",
    "                       numpy.random.normal((2, 3), 1, size=(150, 2)),\n",
    "                       numpy.random.normal((7, 7), 1, size=(100, 2))])\n",
    "\n",
    "plt.figure(figsize=(8, 6))\n",
    "plt.scatter(X[:,0], X[:,1])\n",
    "plt.show()"
   ]
  },
  {
   "cell_type": "markdown",
   "id": "644bfba4",
   "metadata": {},
   "source": [
    "Estes dados parecem corresponder a 3 conjuntos diferentes, logo podemos criar um modelo de misturas gerais e defini-lo como uma mistura de 3 distribuições gaussianas."
   ]
  },
  {
   "cell_type": "code",
   "execution_count": 11,
   "id": "3dce24a9",
   "metadata": {},
   "outputs": [
    {
     "data": {
      "text/plain": [
       "{\n",
       "    \"class\" : \"GeneralMixtureModel\",\n",
       "    \"distributions\" : [\n",
       "        {\n",
       "            \"class\" : \"Distribution\",\n",
       "            \"name\" : \"MultivariateGaussianDistribution\",\n",
       "            \"parameters\" : [\n",
       "                [\n",
       "                    2.147428403085759,\n",
       "                    2.9350255847166977\n",
       "                ],\n",
       "                [\n",
       "                    [\n",
       "                        0.8927989087107913,\n",
       "                        -0.21552040967390312\n",
       "                    ],\n",
       "                    [\n",
       "                        -0.21552040967390312,\n",
       "                        1.1309582019358049\n",
       "                    ]\n",
       "                ]\n",
       "            ],\n",
       "            \"frozen\" : false\n",
       "        },\n",
       "        {\n",
       "            \"class\" : \"Distribution\",\n",
       "            \"name\" : \"MultivariateGaussianDistribution\",\n",
       "            \"parameters\" : [\n",
       "                [\n",
       "                    7.055894880282385,\n",
       "                    2.077227797015027\n",
       "                ],\n",
       "                [\n",
       "                    [\n",
       "                        1.24152179107731,\n",
       "                        -0.015313346483938289\n",
       "                    ],\n",
       "                    [\n",
       "                        -0.015313346483938289,\n",
       "                        1.051734407714759\n",
       "                    ]\n",
       "                ]\n",
       "            ],\n",
       "            \"frozen\" : false\n",
       "        },\n",
       "        {\n",
       "            \"class\" : \"Distribution\",\n",
       "            \"name\" : \"MultivariateGaussianDistribution\",\n",
       "            \"parameters\" : [\n",
       "                [\n",
       "                    6.928542478353649,\n",
       "                    6.932832253496985\n",
       "                ],\n",
       "                [\n",
       "                    [\n",
       "                        1.1246416367778662,\n",
       "                        0.12961024837220791\n",
       "                    ],\n",
       "                    [\n",
       "                        0.12961024837220791,\n",
       "                        1.095599590829785\n",
       "                    ]\n",
       "                ]\n",
       "            ],\n",
       "            \"frozen\" : false\n",
       "        }\n",
       "    ],\n",
       "    \"weights\" : [\n",
       "        0.43082474349600436,\n",
       "        0.2816391792169621,\n",
       "        0.2875360772870335\n",
       "    ]\n",
       "}"
      ]
     },
     "execution_count": 11,
     "metadata": {},
     "output_type": "execute_result"
    }
   ],
   "source": [
    "model = GeneralMixtureModel.from_samples(MultivariateGaussianDistribution, 3, X)\n",
    "model"
   ]
  },
  {
   "cell_type": "markdown",
   "id": "a1fc2961",
   "metadata": {},
   "source": [
    "Agora podemos ver as probabilidades de densidades caso tivéssemos usado apenas 1 distribuição gaussiana versos a mistura das 3 gaussianas.\n",
    "Nota: Mais escuro = maior densidade de probabilidade\n",
    "É fácil de verificar que o modelo de misturas é melhor que a distribuição simples"
   ]
  },
  {
   "cell_type": "code",
   "execution_count": 12,
   "id": "52cc07e9",
   "metadata": {
    "scrolled": true
   },
   "outputs": [
    {
     "data": {
      "image/png": "[encoded data removed]",
      "text/plain": [
       "<Figure size 1008x432 with 2 Axes>"
      ]
     },
     "metadata": {
      "needs_background": "light"
     },
     "output_type": "display_data"
    }
   ],
   "source": [
    "x = numpy.arange(-1, 10.1, .1)\n",
    "y = numpy.arange(-1, 10.1, .1)\n",
    "\n",
    "xx, yy = numpy.meshgrid(x, y)\n",
    "x_ = numpy.array(list(zip(xx.flatten(), yy.flatten())))\n",
    "\n",
    "p1 = MultivariateGaussianDistribution.from_samples(X).probability(x_).reshape(len(x), len(y))\n",
    "p2 = model.probability(x_).reshape(len(x), len(y))\n",
    "\n",
    "\n",
    "plt.figure(figsize=(14, 6))\n",
    "plt.subplot(121)\n",
    "plt.contourf(xx, yy, p1, cmap='Blues', alpha=0.8)\n",
    "plt.scatter(X[:,0], X[:,1])\n",
    "\n",
    "plt.subplot(122)\n",
    "plt.contourf(xx, yy, p2, cmap='Blues', alpha=0.8)\n",
    "plt.scatter(X[:,0], X[:,1])\n",
    "plt.show()"
   ]
  },
  {
   "cell_type": "markdown",
   "id": "efbad925",
   "metadata": {},
   "source": [
    "# Exemplos e Comparação com WebPPL"
   ]
  },
  {
   "cell_type": "markdown",
   "id": "35913164",
   "metadata": {},
   "source": [
    "Exercício 1 da Ficha 3: Assuma que 1% da população tem COVID. Dos que têm COVID, 70% tem um teste rápido positivo mas 10% das pessoas que não têm COVID tem um teste rápido positivo. Imprima o histograma correspondente aos positivos;"
   ]
  },
  {
   "cell_type": "markdown",
   "id": "794259b1",
   "metadata": {},
   "source": [
    "Código em WebPPL\n",
    "\n",
    "```JavaScript\n",
    "var modelo = function(){\n",
    "  var covid = flip(0.01)  \n",
    "  var positivos = covid ? flip(0.7) : flip(0.1)  \n",
    "  return positivos \n",
    "}\n",
    "\n",
    "viz.table(Infer(modelo))\n",
    "```"
   ]
  },
  {
   "cell_type": "code",
   "execution_count": 125,
   "id": "1e7745ed",
   "metadata": {},
   "outputs": [
    {
     "name": "stdout",
     "output_type": "stream",
     "text": [
      "A probabilidade do teste ser positivo é de:  0.1026\n",
      "A probabilidade do teste ser negativo é de:  0.8974\n"
     ]
    },
    {
     "data": {
      "image/png": "[encoded data removed]",
      "text/plain": [
       "<Figure size 432x288 with 1 Axes>"
      ]
     },
     "metadata": {
      "needs_background": "light"
     },
     "output_type": "display_data"
    }
   ],
   "source": [
    "#Exercício1 Ficha3\n",
    "\n",
    "def modelo():\n",
    "    coviddist = DiscreteDistribution({\"Covid\":0.01,\"Saudavel\":0.99})\n",
    "    teste_covid = DiscreteDistribution({\"Positivo\":0.70,\"Negativo\":0.30})\n",
    "    teste_saudavel = DiscreteDistribution({\"Positivo\":0.10,\"Negativo\":0.90})\n",
    "    if coviddist.sample() == \"Covid\":\n",
    "        return teste_covid.sample()\n",
    "    else:\n",
    "        return teste_saudavel.sample()\n",
    "    \n",
    "lista = []\n",
    "numero_samples = 10000\n",
    "count_pos = 0\n",
    "for i in range(numero_samples):\n",
    "    result = modelo()\n",
    "    lista.append(result)\n",
    "    if result == \"Positivo\":\n",
    "        count_pos +=1\n",
    "\n",
    "count_neg = numero_samples-count_pos\n",
    "\n",
    "prob_pos = count_pos/numero_samples\n",
    "prob_neg = count_neg/numero_samples\n",
    "print(\"A probabilidade do teste ser positivo é de: \",prob_pos)\n",
    "print(\"A probabilidade do teste ser negativo é de: \",prob_neg)\n",
    "\n",
    "\n",
    "plt.hist(lista,density=True,bins=[0,1,2],align=\"left\")\n",
    "plt.show()"
   ]
  },
  {
   "cell_type": "markdown",
   "id": "8ed982a1",
   "metadata": {},
   "source": [
    "Também Podemos resolver o exercício utilizando as Independent Components Distributions:"
   ]
  },
  {
   "cell_type": "code",
   "execution_count": 2,
   "id": "de514376",
   "metadata": {},
   "outputs": [
    {
     "name": "stdout",
     "output_type": "stream",
     "text": [
      "A probabilidade do resultado do teste ser positivo é:  0.10600000000000001\n",
      "A probabilidade do resultado do teste ser negativo é:  0.894\n"
     ]
    }
   ],
   "source": [
    "covid_dist = DiscreteDistribution({\"Covid\":0.01,\"Saudavel\":0.99})\n",
    "teste_covid = DiscreteDistribution({\"Positivo\":0.70,\"Negativo\":0.30})\n",
    "teste_saudavel = DiscreteDistribution({\"Positivo\":0.10,\"Negativo\":0.90})\n",
    "\n",
    "dist = IndependentComponentsDistribution(distributions=[covid_dist,teste_covid,teste_saudavel])\n",
    "\n",
    "prob_positivo = dist.distributions[0].probability(\"Covid\")*dist.distributions[1].probability(\"Positivo\") + dist.distributions[0].probability(\"Saudavel\")*dist.distributions[2].probability(\"Positivo\")\n",
    "prob_negativo = dist.distributions[0].probability(\"Covid\")*dist.distributions[1].probability(\"Negativo\") + dist.distributions[0].probability(\"Saudavel\")*dist.distributions[2].probability(\"Negativo\")\n",
    "print(\"A probabilidade do resultado do teste ser positivo é: \",prob_positivo)\n",
    "print(\"A probabilidade do resultado do teste ser negativo é: \",prob_negativo)"
   ]
  },
  {
   "cell_type": "markdown",
   "id": "c4de252e",
   "metadata": {},
   "source": [
    "Exercício 2 Ficha 3: Assuma agora que existe o teste B (em oposição ao teste A referido acima) em que 90% das pessoas com COVID tem um teste positivo enquanto que só 1% das pessoas sem COVID tem um teste positivo. Assuma também que das pessoas que ligam para o Saúde24, 80% das pessoas fizeram o teste A e as restantes fizeram o teste B. Imprima o histograma correspondente aos positivos."
   ]
  },
  {
   "cell_type": "markdown",
   "id": "acabe5a1",
   "metadata": {},
   "source": [
    "Código em WebPPL\n",
    "\n",
    "```JavaScript\n",
    "var modelo = function(){\n",
    "  var covid = flip(0.01)\n",
    "  var positivos_A = covid ? flip(0.7) : flip(0.1)\n",
    "  var positivos_B = covid ? flip(0.9) : flip(0.01)\n",
    "  var positivos = flip(0.8) ? positivos_A : positivos_B\n",
    "  return positivos\n",
    "}\n",
    "\n",
    "viz.table(Infer(modelo))\n",
    "```"
   ]
  },
  {
   "cell_type": "code",
   "execution_count": 126,
   "id": "0c50a884",
   "metadata": {},
   "outputs": [
    {
     "name": "stdout",
     "output_type": "stream",
     "text": [
      "A probabilidade do teste ser positivo é de:  0.0884\n",
      "A probabilidade do teste ser negativo é de:  0.9116\n"
     ]
    },
    {
     "data": {
      "image/png": "[encoded data removed]",
      "text/plain": [
       "<Figure size 432x288 with 1 Axes>"
      ]
     },
     "metadata": {
      "needs_background": "light"
     },
     "output_type": "display_data"
    }
   ],
   "source": [
    "#Exercício 2 Ficha\n",
    "\n",
    "def modelo():\n",
    "    coviddist = DiscreteDistribution({\"Covid\":0.01,\"Saudavel\":0.99})\n",
    "    testeA_covid = DiscreteDistribution({\"Positivo\":0.70,\"Negativo\":0.30})\n",
    "    testeA_saudavel = DiscreteDistribution({\"Positivo\":0.10,\"Negativo\":0.90})\n",
    "    testeB_covid = DiscreteDistribution({\"Positivo\":0.9,\"Negativo\":0.10})\n",
    "    testeB_saudavel = DiscreteDistribution({\"Positivo\":0.01,\"Negativo\":0.99})\n",
    "    positivos = DiscreteDistribution({\"A\":0.80,\"B\":0.20})\n",
    "    \n",
    "    if positivos.sample() == \"A\":\n",
    "        if coviddist.sample == \"Covid\":\n",
    "            return testeA_covid.sample()\n",
    "        else:\n",
    "            return testeA_saudavel.sample()\n",
    "    else:\n",
    "        if coviddist.sample() == \"Covid\":\n",
    "            return testeB_covid.sample()\n",
    "        else:\n",
    "            return testeB_saudavel.sample()\n",
    "\n",
    "lista = []\n",
    "numero_samples = 10000\n",
    "count_pos = 0\n",
    "for i in range(numero_samples):\n",
    "    result = modelo()\n",
    "    lista.append(result)\n",
    "    if result == \"Positivo\":\n",
    "        count_pos +=1\n",
    "\n",
    "count_neg = numero_samples-count_pos\n",
    "\n",
    "prob_pos = count_pos/numero_samples\n",
    "prob_neg = count_neg/numero_samples\n",
    "print(\"A probabilidade do teste ser positivo é de: \",prob_pos)\n",
    "print(\"A probabilidade do teste ser negativo é de: \",prob_neg)\n",
    "\n",
    "\n",
    "plt.hist(lista,density=True,bins=[0,1,2],align=\"left\")\n",
    "plt.show()"
   ]
  },
  {
   "cell_type": "markdown",
   "id": "489e6fbf",
   "metadata": {},
   "source": [
    "Exercício 3 Ficha 3: Calcule p(COVID|positivo) para a pergunta 1 da ficha 3;"
   ]
  },
  {
   "cell_type": "markdown",
   "id": "fb5ce9ab",
   "metadata": {},
   "source": [
    "Código em WebPPL\n",
    "\n",
    "```JavaScript\n",
    "var modelo = function(){\n",
    "  var covid = flip(0.01)\n",
    "  var positivos = covid ? flip(0.7) : flip(0.1)\n",
    "  condition(positivos)\n",
    "  return covid\n",
    "}\n",
    "\n",
    "viz.table(Infer(modelo))\n",
    "```"
   ]
  },
  {
   "cell_type": "code",
   "execution_count": 127,
   "id": "f5c9959f",
   "metadata": {},
   "outputs": [
    {
     "name": "stdout",
     "output_type": "stream",
     "text": [
      "A probabilidade de ter covid é de:  0.06434619002822202\n",
      "A probabilidade de ser saudável é de:  0.9356538099717779\n"
     ]
    },
    {
     "data": {
      "image/png": "[encoded data removed]",
      "text/plain": [
       "<Figure size 432x288 with 1 Axes>"
      ]
     },
     "metadata": {
      "needs_background": "light"
     },
     "output_type": "display_data"
    }
   ],
   "source": [
    "# Exercício 3\n",
    "\n",
    "def modelo():\n",
    "    coviddist = DiscreteDistribution({\"Covid\":0.01,\"Saudavel\":0.99})\n",
    "    teste_covid = DiscreteDistribution({\"Positivo\":0.70,\"Negativo\":0.30})\n",
    "    teste_saudavel = DiscreteDistribution({\"Positivo\":0.10,\"Negativo\":0.90})\n",
    "    covid = coviddist.sample()\n",
    "    if covid == \"Covid\":\n",
    "        resultado = teste_covid.sample()\n",
    "    else:\n",
    "        resultado = teste_saudavel.sample()\n",
    "    if resultado == \"Positivo\":\n",
    "        return covid\n",
    "\n",
    "    \n",
    "\n",
    "lista = []\n",
    "count_covid = 0\n",
    "numero_samples = 50000\n",
    "for i in range(numero_samples):\n",
    "    result = modelo()\n",
    "    if result != None:\n",
    "        lista.append(result)\n",
    "        if result == \"Covid\":\n",
    "            count_covid +=1\n",
    "\n",
    "count_sau = len(lista)-count_covid\n",
    "\n",
    "prob_covid = count_covid/len(lista)\n",
    "prob_sau = count_sau/len(lista)\n",
    "print(\"A probabilidade de ter covid é de: \",prob_covid)\n",
    "print(\"A probabilidade de ser saudável é de: \",prob_sau)\n",
    "\n",
    "plt.hist(lista,density=True,bins=[0,1,2],align=\"left\")\n",
    "plt.show()"
   ]
  },
  {
   "cell_type": "markdown",
   "id": "226b2ffc",
   "metadata": {},
   "source": [
    "# Redes Bayesianas"
   ]
  },
  {
   "cell_type": "markdown",
   "id": "c0e3ff64",
   "metadata": {},
   "source": [
    "## O problema de Monty-Hall"
   ]
  },
  {
   "cell_type": "markdown",
   "id": "44fac438",
   "metadata": {},
   "source": [
    "Um concurso onde o participante tem de escolher qual das 3 portas tem um prémio escondido. Depois de feita a escolha, o apresentador Monty Hall abre uma das portas que não foi escolhida e pergunta se o utilizador quer mudar a sua escolha. A intuição leva-nos a crer que não faz diferença mudar e que a probabilidade de ganhar é de 50% qualquer que seja a escolha. No entanto, a probabilidade de ganhar se o utilizador mudar a sua escolha é, na verdade, de 66%."
   ]
  },
  {
   "cell_type": "markdown",
   "id": "7826e5a3",
   "metadata": {},
   "source": [
    "Podemos replicar este problema utilizando uma rede Bayesiana com 3 nodos, um para o participante, um para o prémio e um para a porta que o Monty abre. A porta que o participante escolhe e a porta que contém o prémio são processos aleatórios, mas a porta que o Monty abre depende tanto da porta que o participante escolhe como da porta que contém o prémio."
   ]
  },
  {
   "cell_type": "markdown",
   "id": "48d21abb",
   "metadata": {},
   "source": [
    "Vamos então criar as distribuições discretas de cada nodo. Vamos usar DiscreteDistributions para os root nodes e uma ConditionalProbabilityTable para o leaf node. O segundo argumento desta última é a ordem pela qual os parentes aparecem."
   ]
  },
  {
   "cell_type": "code",
   "execution_count": 128,
   "id": "bfa46508",
   "metadata": {},
   "outputs": [],
   "source": [
    "# A escolha do participante é aleatória\n",
    "guest = DiscreteDistribution({'A': 1./3, 'B': 1./3, 'C': 1./3})\n",
    "\n",
    "# A porta que contém o prémio é aleatória\n",
    "prize = DiscreteDistribution({'A': 1./3, 'B': 1./3, 'C': 1./3})\n",
    "\n",
    "# A porta que o Monty abre depende tanto do guest como do prize\n",
    "monty = ConditionalProbabilityTable(\n",
    "        [[ 'A', 'A', 'A', 0.0 ],\n",
    "         [ 'A', 'A', 'B', 0.5 ],\n",
    "         [ 'A', 'A', 'C', 0.5 ],\n",
    "         [ 'A', 'B', 'A', 0.0 ],\n",
    "         [ 'A', 'B', 'B', 0.0 ],\n",
    "         [ 'A', 'B', 'C', 1.0 ],\n",
    "         [ 'A', 'C', 'A', 0.0 ],\n",
    "         [ 'A', 'C', 'B', 1.0 ],\n",
    "         [ 'A', 'C', 'C', 0.0 ],\n",
    "         [ 'B', 'A', 'A', 0.0 ],\n",
    "         [ 'B', 'A', 'B', 0.0 ],\n",
    "         [ 'B', 'A', 'C', 1.0 ],\n",
    "         [ 'B', 'B', 'A', 0.5 ],\n",
    "         [ 'B', 'B', 'B', 0.0 ],\n",
    "         [ 'B', 'B', 'C', 0.5 ],\n",
    "         [ 'B', 'C', 'A', 1.0 ],\n",
    "         [ 'B', 'C', 'B', 0.0 ],\n",
    "         [ 'B', 'C', 'C', 0.0 ],\n",
    "         [ 'C', 'A', 'A', 0.0 ],\n",
    "         [ 'C', 'A', 'B', 1.0 ],\n",
    "         [ 'C', 'A', 'C', 0.0 ],\n",
    "         [ 'C', 'B', 'A', 1.0 ],\n",
    "         [ 'C', 'B', 'B', 0.0 ],\n",
    "         [ 'C', 'B', 'C', 0.0 ],\n",
    "         [ 'C', 'C', 'A', 0.5 ],\n",
    "         [ 'C', 'C', 'B', 0.5 ],\n",
    "         [ 'C', 'C', 'C', 0.0 ]], [guest, prize])"
   ]
  },
  {
   "cell_type": "markdown",
   "id": "464662e3",
   "metadata": {},
   "source": [
    "Agora vamos passar estas distribuições para estados de objetos"
   ]
  },
  {
   "cell_type": "code",
   "execution_count": 129,
   "id": "4e504bdb",
   "metadata": {},
   "outputs": [],
   "source": [
    "s1 = State(guest, name=\"guest\")\n",
    "s2 = State(prize, name=\"prize\")\n",
    "s3 = State(monty, name=\"monty\")"
   ]
  },
  {
   "cell_type": "markdown",
   "id": "a46cf357",
   "metadata": {},
   "source": [
    "Agora vamos adicionar os estados à rede"
   ]
  },
  {
   "cell_type": "code",
   "execution_count": 131,
   "id": "06568970",
   "metadata": {},
   "outputs": [],
   "source": [
    "# Cria a rede Bayesiana\n",
    "model = BayesianNetwork(\"Monty Hall Problem\")\n",
    "\n",
    "# Adiciona os 3 estados à rede\n",
    "model.add_states(s1, s2, s3)"
   ]
  },
  {
   "cell_type": "markdown",
   "id": "1015ce49",
   "metadata": {},
   "source": [
    "Agora precisamos de adicionar as transições entre os nodos usando model.add_edge(parent,child)"
   ]
  },
  {
   "cell_type": "code",
   "execution_count": 132,
   "id": "ca3249b5",
   "metadata": {},
   "outputs": [],
   "source": [
    "model.add_edge(s1, s3)\n",
    "model.add_edge(s2, s3)"
   ]
  },
  {
   "cell_type": "markdown",
   "id": "fc461196",
   "metadata": {},
   "source": [
    "Temos de fazer o bake() para finalizar o modelo"
   ]
  },
  {
   "cell_type": "code",
   "execution_count": 133,
   "id": "6b46dbb2",
   "metadata": {},
   "outputs": [],
   "source": [
    "model.bake()"
   ]
  },
  {
   "cell_type": "markdown",
   "id": "c45a109a",
   "metadata": {},
   "source": [
    "Podemos prever probabilidades da mesma forma utilizada noutros modelos:"
   ]
  },
  {
   "cell_type": "code",
   "execution_count": 142,
   "id": "b5f61679",
   "metadata": {},
   "outputs": [
    {
     "data": {
      "text/plain": [
       "0.11111111111111109"
      ]
     },
     "execution_count": 142,
     "metadata": {},
     "output_type": "execute_result"
    }
   ],
   "source": [
    "model.probability([['A', 'B', 'C']])"
   ]
  },
  {
   "cell_type": "code",
   "execution_count": 146,
   "id": "cf28898d",
   "metadata": {},
   "outputs": [
    {
     "data": {
      "text/plain": [
       "0.0"
      ]
     },
     "execution_count": 146,
     "metadata": {},
     "output_type": "execute_result"
    }
   ],
   "source": [
    "model.probability([['A', 'B', 'A']])"
   ]
  },
  {
   "cell_type": "markdown",
   "id": "527f9e83",
   "metadata": {},
   "source": [
    "Podemos realizar inferência fornecendo variáveis observadas ou não, embora quanto maior seja o número de variáveis observadas, melhor serão as previsões dos restantes valores.\n",
    "O pomegranate utiliza o algoritmo de propagação de crenças para realizar inferência nestes casos, uma vez que funciona bastante bem em modelos gráficos e árvores."
   ]
  },
  {
   "cell_type": "code",
   "execution_count": 147,
   "id": "7a972e1b",
   "metadata": {},
   "outputs": [
    {
     "data": {
      "text/plain": [
       "array([{\n",
       "           \"class\" : \"Distribution\",\n",
       "           \"dtype\" : \"str\",\n",
       "           \"name\" : \"DiscreteDistribution\",\n",
       "           \"parameters\" : [\n",
       "               {\n",
       "                   \"A\" : 0.33333333333333337,\n",
       "                   \"B\" : 0.33333333333333337,\n",
       "                   \"C\" : 0.33333333333333337\n",
       "               }\n",
       "           ],\n",
       "           \"frozen\" : false\n",
       "       }                                     ,\n",
       "       {\n",
       "           \"class\" : \"Distribution\",\n",
       "           \"dtype\" : \"str\",\n",
       "           \"name\" : \"DiscreteDistribution\",\n",
       "           \"parameters\" : [\n",
       "               {\n",
       "                   \"A\" : 0.33333333333333337,\n",
       "                   \"B\" : 0.33333333333333337,\n",
       "                   \"C\" : 0.33333333333333337\n",
       "               }\n",
       "           ],\n",
       "           \"frozen\" : false\n",
       "       }                                     ,\n",
       "       {\n",
       "           \"class\" : \"Distribution\",\n",
       "           \"dtype\" : \"str\",\n",
       "           \"name\" : \"DiscreteDistribution\",\n",
       "           \"parameters\" : [\n",
       "               {\n",
       "                   \"C\" : 0.3333333333333333,\n",
       "                   \"A\" : 0.3333333333333333,\n",
       "                   \"B\" : 0.3333333333333333\n",
       "               }\n",
       "           ],\n",
       "           \"frozen\" : false\n",
       "       }                                    ], dtype=object)"
      ]
     },
     "execution_count": 147,
     "metadata": {},
     "output_type": "execute_result"
    }
   ],
   "source": [
    "model.predict_proba({})"
   ]
  },
  {
   "cell_type": "code",
   "execution_count": 144,
   "id": "942567ed",
   "metadata": {},
   "outputs": [
    {
     "data": {
      "text/plain": [
       "[array(['A', {\n",
       "                 \"class\" : \"Distribution\",\n",
       "                 \"dtype\" : \"str\",\n",
       "                 \"name\" : \"DiscreteDistribution\",\n",
       "                 \"parameters\" : [\n",
       "                     {\n",
       "                         \"A\" : 0.3333333333333333,\n",
       "                         \"B\" : 0.3333333333333333,\n",
       "                         \"C\" : 0.3333333333333333\n",
       "                     }\n",
       "                 ],\n",
       "                 \"frozen\" : false\n",
       "             }                                    ,\n",
       "        {\n",
       "            \"class\" : \"Distribution\",\n",
       "            \"dtype\" : \"str\",\n",
       "            \"name\" : \"DiscreteDistribution\",\n",
       "            \"parameters\" : [\n",
       "                {\n",
       "                    \"C\" : 0.49999999999999983,\n",
       "                    \"A\" : 0.0,\n",
       "                    \"B\" : 0.49999999999999983\n",
       "                }\n",
       "            ],\n",
       "            \"frozen\" : false\n",
       "        }                                     ], dtype=object)]"
      ]
     },
     "execution_count": 144,
     "metadata": {},
     "output_type": "execute_result"
    }
   ],
   "source": [
    "model.predict_proba([['A', None, None]])"
   ]
  },
  {
   "cell_type": "code",
   "execution_count": 154,
   "id": "e2860553",
   "metadata": {},
   "outputs": [
    {
     "data": {
      "text/plain": [
       "[array(['A', {\n",
       "                 \"class\" : \"Distribution\",\n",
       "                 \"dtype\" : \"str\",\n",
       "                 \"name\" : \"DiscreteDistribution\",\n",
       "                 \"parameters\" : [\n",
       "                     {\n",
       "                         \"A\" : 0.3333333333333334,\n",
       "                         \"B\" : 0.6666666666666664,\n",
       "                         \"C\" : 0.0\n",
       "                     }\n",
       "                 ],\n",
       "                 \"frozen\" : false\n",
       "             }                                    , 'C'], dtype=object)]"
      ]
     },
     "execution_count": 154,
     "metadata": {},
     "output_type": "execute_result"
    }
   ],
   "source": [
    "model.predict_proba([{'guest': 'A', 'monty': 'C'}])"
   ]
  }
 ],
 "metadata": {
  "interpreter": {
   "hash": "b1cbc199116ca0050f15b4a096ee5586221393ef42f89efdf0ba89fccf25361f"
  },
  "kernelspec": {
   "display_name": "Python 3",
   "language": "python",
   "name": "python3"
  },
  "language_info": {
   "codemirror_mode": {
    "name": "ipython",
    "version": 3
   },
   "file_extension": ".py",
   "mimetype": "text/x-python",
   "name": "python",
   "nbconvert_exporter": "python",
   "pygments_lexer": "ipython3",
   "version": "3.8.8"
  }
 },
 "nbformat": 4,
 "nbformat_minor": 5
}
